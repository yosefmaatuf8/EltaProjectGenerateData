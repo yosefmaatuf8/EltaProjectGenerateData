{
 "cells": [
  {
   "cell_type": "code",
   "id": "initial_id",
   "metadata": {
    "collapsed": true,
    "ExecuteTime": {
     "end_time": "2024-11-19T22:36:40.509546Z",
     "start_time": "2024-11-19T22:36:40.466987Z"
    }
   },
   "source": [
    "from dotenv import load_dotenv, find_dotenv\n",
    "load_dotenv(find_dotenv())\n",
    "\n",
    "\n",
    "from langchain_openai import ChatOpenAI\n",
    "\n",
    "llm = ChatOpenAI(model=\"gpt-4o\")\n",
    "\n",
    "from langchain_core.prompts import ChatPromptTemplate"
   ],
   "outputs": [],
   "execution_count": 58
  },
  {
   "metadata": {
    "ExecuteTime": {
     "end_time": "2024-11-19T22:36:40.512248Z",
     "start_time": "2024-11-19T22:36:40.510421Z"
    }
   },
   "cell_type": "code",
   "source": "description = \"\"\"Equipment Malfunction | type: string-(shell, gun, helmet, etc), site:, string-(city or place), malfunctionLevel(Int), urgency(int), description(string. should be short!!)\"\"\"",
   "id": "a8bb23f121eb2aea",
   "outputs": [],
   "execution_count": 59
  },
  {
   "metadata": {
    "ExecuteTime": {
     "end_time": "2024-11-19T22:36:40.514637Z",
     "start_time": "2024-11-19T22:36:40.513043Z"
    }
   },
   "cell_type": "code",
   "source": "template_params = {}#{\"description\": description}",
   "id": "86af23da8816dcfe",
   "outputs": [],
   "execution_count": 60
  },
  {
   "metadata": {
    "ExecuteTime": {
     "end_time": "2024-11-19T22:36:40.518120Z",
     "start_time": "2024-11-19T22:36:40.515991Z"
    }
   },
   "cell_type": "code",
   "source": [
    "template = f\"\"\"\n",
    "i give you a schema, and examples of schema and the input and the output:\n",
    "\n",
    "the schema: {description}\n",
    "\n",
    "the example schema: speed: int, type: \"boeing\", weight:Int, fuel: Int, altitute: (with t)Int,  whells: Int-the amount of wheels, engine: Int-amount of engines\n",
    "rule instance and severity alwase there.\n",
    "\n",
    "the output:\n",
    "\n",
    "rule_instance_system_failure = [ \"speed\": 150, \"type\": \"boeing\", \"weight\": 200, \"fuel\": 100, \"altitute\": 400, \"wheels\": 1, \"engine\": 1, \"ruleInstanceName\": \"System Failure - Wheels\",\"severity\": 1,\n",
    ",\n",
    "  \"speed\": 800, \"type\": \"\", \"weight\": 1000, \"fuel\": 700, \"altitute\": 600, \"wheels\": 1, \"engine\": 0 ,\"ruleInstanceName\": \"System Failure - Engine\", \"severity\": 1,\n",
    "  ,\n",
    "  \"speed\": 400, \"type\": \"\", \"weight\": 900, \"fuel\": 400, # 500 \"altitute\": \"\", \"wheels\": 2, \"engine\": 2, \"ruleInstanceName\": \"System Failure - Fuel\", \"severity\": 3,\n",
    "  ,\n",
    "  \"speed\": 300, \"type\": \"\", \"weight\": 200, \"fuel\": 300, \"altitute\": 400, \"wheels\": 1, \"engine\": 0, \"ruleInstanceName\": \"System Failure - Stabilizer\", \"severity\": 1,\n",
    "  ,\n",
    "  \"speed\": 250, \"type\": \"boeing\", \"weight\": 200, \"fuel\": 200, \"altitute\": 200, \"wheels\": 1, \"engine\": 2, \"ruleInstanceName\": \"System Failure - Wing\", \"severity\": 2,\n",
    "  \n",
    "]\n",
    "\n",
    "\n",
    "free_text_system_failure = [\n",
    "Please create a Rule \"System Failure - Wheels\" in order to be alereted on System Failure. The parameters ar important to me are type is boeing weight is 200, fuel is  100, altitute is 400, wheels is 1, engine is 1, speed is 150 severity is 1,\n",
    "Please create a Rule instance \"Engine - failure\". the aim of the rule is to find System Failure. Please take i account the following variables type is empty weight is 1000, fuel is  700, altitute is 600, wheels is 1, engine is 0, speed is 800 severity is 1,\n",
    "Please create a Rule instance \"System Failure - Fuel\"  that related to \"System Failure\" i don't care about the type of the airplan. The threshhold of the weight shall be 900. the fuel is under 400. wheels is 2, engine is 2, speed is 400 severity is 3,\n",
    "Please create a Rule instance \"System Failure - Stabilizer\"  that related to \"System Failure\". type is empty weight is 200, fuel is 300, altitute is 400, wheels is 1, engine is 0, speed is 300 severity is 1,\n",
    "Please create a Rule instance \"System Failure - Wing\"  that related to \"System Failure\". type is boeing weight is 200, fuel is 200, altitute is 200, wheels is 1, engine is 2, speed is 250 severity is 2\n",
    "]\n",
    "\n",
    "generate for me according to the schema like the example\n",
    "\n",
    "Make sure to:\n",
    "- Mix up the order of the fields.\n",
    "- Use synonyms for words.\n",
    "- Replace numbers with their word equivalents (e.g., 4 -> \"four\").\n",
    "- Leave out connecting words in some parts of the sentence.\n",
    "- Use slightly inaccurate terminology where appropriate.\n",
    "- sometimes ignore some values in the free text, (but not in the rule instance. write there 'empty'.)\n",
    "- Add conversational fillers like \"uh\", \"eh\", \"um\" to mimic casual speech.\n",
    "\n",
    "but in the end, still it should be recognizable.\n",
    "Important: Ensure the phrase \"Equipment Malfunction\" is included.\n",
    "\n",
    "Finally, return the result as two Python lists.\n",
    "\"\"\""
   ],
   "id": "7e48b9b4918b6a03",
   "outputs": [],
   "execution_count": 61
  },
  {
   "metadata": {
    "ExecuteTime": {
     "end_time": "2024-11-19T22:36:48.412354Z",
     "start_time": "2024-11-19T22:36:40.518796Z"
    }
   },
   "cell_type": "code",
   "source": [
    "prompt = ChatPromptTemplate.from_template(template)\n",
    "chain = prompt | llm\n",
    "response = chain.invoke(template_params).content"
   ],
   "id": "feba03c9c829658c",
   "outputs": [],
   "execution_count": 62
  },
  {
   "metadata": {
    "ExecuteTime": {
     "end_time": "2024-11-19T22:36:48.416657Z",
     "start_time": "2024-11-19T22:36:48.413646Z"
    }
   },
   "cell_type": "code",
   "source": "print(response)",
   "id": "dd436894dcc70163",
   "outputs": [
    {
     "name": "stdout",
     "output_type": "stream",
     "text": [
      "```python\n",
      "rule_instance_equipment_malfunction = [\n",
      "    {\"type\": \"shell\", \"site\": \"city\", \"malfunctionLevel\": 5, \"urgency\": 3, \"description\": \"uh, shell cracked\", \"ruleInstanceName\": \"Equipment Malfunction - Shell\", \"severity\": 2},\n",
      "    {\"type\": \"gun\", \"site\": \"empty\", \"malfunctionLevel\": 3, \"urgency\": 4, \"description\": \"gun jammed, eh\", \"ruleInstanceName\": \"Equipment Malfunction - Gun\", \"severity\": 1},\n",
      "    {\"type\": \"helmet\", \"site\": \"base\", \"malfunctionLevel\": 2, \"urgency\": 1, \"description\": \"visor, um, scratched\", \"ruleInstanceName\": \"Equipment Malfunction - Helmet\", \"severity\": 1},\n",
      "    {\"type\": \"vehicle\", \"site\": \"field\", \"malfunctionLevel\": 4, \"urgency\": 2, \"description\": \"engine failure\", \"ruleInstanceName\": \"Equipment Malfunction - Vehicle\", \"severity\": 3},\n",
      "    {\"type\": \"radar\", \"site\": \"empty\", \"malfunctionLevel\": 1, \"urgency\": 5, \"description\": \"uh, radar offline\", \"ruleInstanceName\": \"Equipment Malfunction - Radar\", \"severity\": 2}\n",
      "]\n",
      "\n",
      "free_text_equipment_malfunction = [\n",
      "    \"Please, uh, create a Rule 'Equipment Malfunction - Shell' for Equipment Malfunction. Important: type shell, location city, uh, malfunction severity five, urgency three, description shell cracked\",\n",
      "    \"Create a Rule instance 'Gun - jammed'. Aim is finding Equipment Malfunction. Consider type 'empty', malfunction three, urgency four. Description goes like, 'gun jammed, eh'\",\n",
      "    \"Um, make a Rule 'Equipment Malfunction - Helmet'. It relates to Equipment Malfunction. Remember: type helmet, site base, malfunction two, urgency one, description visor, um, scratched\",\n",
      "    \"Create Rule 'Equipment Malfunction - Vehicle' about Equipment Malfunction. Type is vehicle, place field, malfunction four, urgency two. Description: engine failure\",\n",
      "    \"Uh, set a Rule 'Equipment Malfunction - Radar'. Related to Equipment Malfunction. Type radar, site 'empty', malfunction one, urgency five, description radar offline\"\n",
      "]\n",
      "```\n",
      "\n",
      "The lists above define rule instances and their corresponding free-text descriptions for equipment malfunctions, adhering to the guidelines provided.\n"
     ]
    }
   ],
   "execution_count": 63
  },
  {
   "metadata": {
    "ExecuteTime": {
     "end_time": "2024-11-19T22:36:48.419848Z",
     "start_time": "2024-11-19T22:36:48.417920Z"
    }
   },
   "cell_type": "code",
   "source": "",
   "id": "e3eccb19e490d569",
   "outputs": [],
   "execution_count": 63
  }
 ],
 "metadata": {
  "kernelspec": {
   "display_name": "Python 3",
   "language": "python",
   "name": "python3"
  },
  "language_info": {
   "codemirror_mode": {
    "name": "ipython",
    "version": 2
   },
   "file_extension": ".py",
   "mimetype": "text/x-python",
   "name": "python",
   "nbconvert_exporter": "python",
   "pygments_lexer": "ipython2",
   "version": "2.7.6"
  }
 },
 "nbformat": 4,
 "nbformat_minor": 5
}
